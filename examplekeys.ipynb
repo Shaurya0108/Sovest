{
 "cells": [
  {
   "cell_type": "code",
   "execution_count": 11,
   "id": "5f7c823f",
   "metadata": {},
   "outputs": [],
   "source": [
    "consumer_key = 'Sq66XmfiD63cQRcD6yw5mkoF4'\n",
    "consumer_secret = 'gLiACggudpj71kK8aue9kF27BhmF8YvE6bcJGVaPyqEGqD0MZw'\n",
    "access_token = '3945435672-ZnzoEsp4pyNbIJkewjwQp94MegaByqttLWVD5qQ'\n",
    "access_token_secret = 'rGg7kBUbVgQKrScgjCCiW1UM2EKUjRsckGt2G6p0kCqqZ'"
   ]
  }
 ],
 "metadata": {
  "kernelspec": {
   "display_name": "Python 3 (ipykernel)",
   "language": "python",
   "name": "python3"
  },
  "language_info": {
   "codemirror_mode": {
    "name": "ipython",
    "version": 3
   },
   "file_extension": ".py",
   "mimetype": "text/x-python",
   "name": "python",
   "nbconvert_exporter": "python",
   "pygments_lexer": "ipython3",
   "version": "3.9.5"
  }
 },
 "nbformat": 4,
 "nbformat_minor": 5
}
