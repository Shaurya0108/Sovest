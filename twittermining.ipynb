{
 "cells": [
  {
   "cell_type": "code",
   "execution_count": 2,
   "id": "0739c6b9",
   "metadata": {},
   "outputs": [],
   "source": [
    "#!pip install pandas\n",
    "#!pip install -q snscrape==0.3.4\n",
    "#!pip install tweepy"
   ]
  },
  {
   "cell_type": "code",
   "execution_count": 3,
   "id": "72fce5c1",
   "metadata": {},
   "outputs": [],
   "source": [
    "import tweepy\n",
    "import pandas as pd"
   ]
  },
  {
   "cell_type": "code",
   "execution_count": 4,
   "id": "87c625d1",
   "metadata": {},
   "outputs": [],
   "source": [
    "consumer_key = 'Sq66XmfiD63cQRcD6yw5mkoF4'\n",
    "consumer_secret = 'gLiACggudpj71kK8aue9kF27BhmF8YvE6bcJGVaPyqEGqD0MZw'\n",
    "access_token = '3945435672-ZnzoEsp4pyNbIJkewjwQp94MegaByqttLWVD5qQ'\n",
    "access_token_secret = 'rGg7kBUbVgQKrScgjCCiW1UM2EKUjRsckGt2G6p0kCqqZ'"
   ]
  },
  {
   "cell_type": "code",
   "execution_count": 5,
   "id": "cb7ca416",
   "metadata": {},
   "outputs": [],
   "source": [
    "auth = tweepy.OAuthHandler(consumer_key, consumer_secret)\n",
    "auth.set_access_token(access_token, access_token_secret)\n",
    "api = tweepy.API(auth)"
   ]
  },
  {
   "cell_type": "code",
   "execution_count": 19,
   "id": "32e11572",
   "metadata": {},
   "outputs": [],
   "source": [
    "cursor = tweepy.Cursor(api.search_tweets, q=\"$APPL\", tweet_mode=\"extended\").items(10)"
   ]
  },
  {
   "cell_type": "code",
   "execution_count": 20,
   "id": "3b740868",
   "metadata": {},
   "outputs": [
    {
     "name": "stdout",
     "output_type": "stream",
     "text": [
      "$APPL $MSFT $SOS $NIO $COIN\n",
      "\"Not only do you get alerts from top traders at Xtrades-net, but you can alert your own trades, have the bot our record it, and see how your results compare.\" Visit now and enjoy 20 days free trial, Try just one time. https://t.co/k3TZFmFl2i https://t.co/fpFOOTmcB7\n",
      "Watchlist \n",
      "$GGPI \n",
      "$SPY\n",
      "$QQQ\n",
      "$METX\n",
      "$APPL\n",
      "$FB\n",
      "Yes, $DNA could be worth much more than the value of $APPL and $MSFT together. https://t.co/sUCr4GxGtx\n",
      "$APPL &amp; #Crypto - joining suit like all the others! - believe it ✅🔐 #BTC #ETH $SHIB 💰 https://t.co/Z36zaJyfzY\n",
      "New Free Options and crypto  Discord! \n",
      "LINK IN BIO! JOIN NOW!\n",
      "\n",
      "$BTC $ETH $ECH $BCH $LTC  $ampl $XTZ $XLM $XOM \n",
      "$APPL $ZM $FB $SPY $LRC $QCOM $MSFT $TWTR $SPAQ $NIO $NKLA $ATT $BA $DJI $INTC $ATVI $PFE $MRNA $GILD $PYPL https://t.co/p6zRYisYCg\n",
      "RT @TIWtweets: In this episode we discuss Trainline, Sainsburys, GlaxoSmithKline, Royal Dutch Shell, BT &amp; Apple\n",
      "\n",
      "$gsk $sbry $bt.a $rdsb $tr…\n",
      "RT @thesamball: In this episode we discuss Trainline, Sainsburys, GlaxoSmithKline, Royal Dutch Shell, BT &amp; Apple\n",
      "\n",
      "$gsk $sbry $bt.a $rdsb $t…\n",
      "RT @TIWtweets: In this episode we discuss Trainline, Sainsburys, GlaxoSmithKline, Royal Dutch Shell, BT &amp; Apple\n",
      "\n",
      "$gsk $sbry $bt.a $rdsb $tr…\n",
      "In this episode we discuss Trainline, Sainsburys, GlaxoSmithKline, Royal Dutch Shell, BT &amp; Apple\n",
      "\n",
      "$gsk $sbry $bt.a $rdsb $trn $appl\n",
      "\n",
      "https://t.co/lOnyqzRVTm\n",
      "In this episode we discuss Trainline, Sainsburys, GlaxoSmithKline, Royal Dutch Shell, BT &amp; Apple\n",
      "\n",
      "$gsk $sbry $bt.a $rdsb $trn $appl\n",
      "\n",
      "https://t.co/bm253uQbxt\n"
     ]
    }
   ],
   "source": [
    "for i in cursor:\n",
    "    print(i.full_text)"
   ]
  },
  {
   "cell_type": "code",
   "execution_count": 18,
   "id": "1572f549",
   "metadata": {},
   "outputs": [
    {
     "ename": "TypeError",
     "evalue": "read_csv() missing 1 required positional argument: 'filepath_or_buffer'",
     "output_type": "error",
     "traceback": [
      "\u001b[0;31m---------------------------------------------------------------------------\u001b[0m",
      "\u001b[0;31mTypeError\u001b[0m                                 Traceback (most recent call last)",
      "\u001b[0;32m/var/folders/fl/0wfn3m2j6nlbww7wbsshxz4m0000gq/T/ipykernel_40968/3512060533.py\u001b[0m in \u001b[0;36m<module>\u001b[0;34m\u001b[0m\n\u001b[0;32m----> 1\u001b[0;31m \u001b[0msmaller\u001b[0m \u001b[0;34m=\u001b[0m \u001b[0mpd\u001b[0m\u001b[0;34m.\u001b[0m\u001b[0mread_csv\u001b[0m\u001b[0;34m(\u001b[0m\u001b[0;34m)\u001b[0m\u001b[0;34m\u001b[0m\u001b[0;34m\u001b[0m\u001b[0m\n\u001b[0m\u001b[1;32m      2\u001b[0m \u001b[0msmaller\u001b[0m\u001b[0;34m\u001b[0m\u001b[0;34m\u001b[0m\u001b[0m\n",
      "\u001b[0;32m~/PycharmProjects/STONKSVest/venv/lib/python3.9/site-packages/pandas/util/_decorators.py\u001b[0m in \u001b[0;36mwrapper\u001b[0;34m(*args, **kwargs)\u001b[0m\n\u001b[1;32m    309\u001b[0m                     \u001b[0mstacklevel\u001b[0m\u001b[0;34m=\u001b[0m\u001b[0mstacklevel\u001b[0m\u001b[0;34m,\u001b[0m\u001b[0;34m\u001b[0m\u001b[0;34m\u001b[0m\u001b[0m\n\u001b[1;32m    310\u001b[0m                 )\n\u001b[0;32m--> 311\u001b[0;31m             \u001b[0;32mreturn\u001b[0m \u001b[0mfunc\u001b[0m\u001b[0;34m(\u001b[0m\u001b[0;34m*\u001b[0m\u001b[0margs\u001b[0m\u001b[0;34m,\u001b[0m \u001b[0;34m**\u001b[0m\u001b[0mkwargs\u001b[0m\u001b[0;34m)\u001b[0m\u001b[0;34m\u001b[0m\u001b[0;34m\u001b[0m\u001b[0m\n\u001b[0m\u001b[1;32m    312\u001b[0m \u001b[0;34m\u001b[0m\u001b[0m\n\u001b[1;32m    313\u001b[0m         \u001b[0;32mreturn\u001b[0m \u001b[0mwrapper\u001b[0m\u001b[0;34m\u001b[0m\u001b[0;34m\u001b[0m\u001b[0m\n",
      "\u001b[0;31mTypeError\u001b[0m: read_csv() missing 1 required positional argument: 'filepath_or_buffer'"
     ]
    }
   ],
   "source": []
  },
  {
   "cell_type": "code",
   "execution_count": null,
   "id": "f867e9e3",
   "metadata": {},
   "outputs": [],
   "source": []
  }
 ],
 "metadata": {
  "kernelspec": {
   "display_name": "Python 3 (ipykernel)",
   "language": "python",
   "name": "python3"
  },
  "language_info": {
   "codemirror_mode": {
    "name": "ipython",
    "version": 3
   },
   "file_extension": ".py",
   "mimetype": "text/x-python",
   "name": "python",
   "nbconvert_exporter": "python",
   "pygments_lexer": "ipython3",
   "version": "3.9.5"
  }
 },
 "nbformat": 4,
 "nbformat_minor": 5
}
